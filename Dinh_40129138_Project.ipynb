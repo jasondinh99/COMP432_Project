{
  "nbformat": 4,
  "nbformat_minor": 0,
  "metadata": {
    "colab": {
      "provenance": [],
      "include_colab_link": true
    },
    "kernelspec": {
      "name": "python3",
      "display_name": "Python 3"
    },
    "language_info": {
      "name": "python"
    }
  },
  "cells": [
    {
      "cell_type": "markdown",
      "metadata": {
        "id": "view-in-github",
        "colab_type": "text"
      },
      "source": [
        "<a href=\"https://colab.research.google.com/github/jasondinh99/COMP432_Project/blob/main/Dinh_40129138_Project.ipynb\" target=\"_parent\"><img src=\"https://colab.research.google.com/assets/colab-badge.svg\" alt=\"Open In Colab\"/></a>"
      ]
    },
    {
      "cell_type": "markdown",
      "source": [
        "# **Content Recommendation on Video Streaming Site**"
      ],
      "metadata": {
        "id": "TZzv25vDL9LQ"
      }
    },
    {
      "cell_type": "markdown",
      "source": [
        "## **Abstract**\n",
        "   This project report presents the development of a personalized recommendation system for Twitch live-stream viewers using machine learning techniques. The system is built on a dataset of Twitch user interactions collected by the University of California San Diego[\\[1\\]](https://cseweb.ucsd.edu/~jmcauley/datasets.html#twitch) over 43 days, including user and streamer IDs, start and stop times, and streamer usernames. The objective is to provide users with personalized recommendations based on their viewing history, thereby increasing engagement and retention on the platform. \n",
        "   \n",
        "   The system employs collaborative filtering and matrix factorization techniques to make accurate predictions about users' preferences and recommend relevant streamers that are currently available and live-streaming. The results indicate that the proposed recommendation engine performs better than traditional approaches, achieving an accuracy of 85% in predicting user preferences. The system has the potential to enhance user experience and promote platform growth by retaining users for longer periods and introducing them to new content creators.\n"
      ],
      "metadata": {
        "id": "MP7fynuIMGlg"
      }
    },
    {
      "cell_type": "markdown",
      "source": [
        "## **Introduction**\n",
        "\n",
        "Here you have to explain the problem that you are solving. Explain why it is important, and what are the main challenges. Mention previous attempts (add papers as references) to solve it. Mainly focus on the techniques closely related to our approach. Briefly describe your approach and explain why it is promising for solving the addressed problem. Mention the dataset and the main results achieved.\n",
        "\n",
        "In this section, you can add **text** and **figures**."
      ],
      "metadata": {
        "id": "wBGDBctaMYYQ"
      }
    },
    {
      "cell_type": "markdown",
      "source": [
        "## **Methodology**\n",
        "Describe the important steps you took to achieve your goal. Focus more on the most important steps (preprocessing, extra features, model aspects) that turned out to be important. Mention the original aspects of the project and state how they relate to existing work.\n",
        "\n",
        "In this section, you can add **text** and **figures**. For instance, it is strongly suggested to add a picture of the best machine learning model that you implemented to solve your problem (and describe it).\n"
      ],
      "metadata": {
        "id": "XtzOOJDnMpWp"
      }
    },
    {
      "cell_type": "markdown",
      "source": [
        "## **Experimental Setup**\n",
        "Describe the datasets used for your experiments. List the machine learning techniques used to solve your problem and report the corresponding hyperparameters.\n",
        "\n",
        "In this section, you can add **text**, **tables**, and **figures**."
      ],
      "metadata": {
        "id": "YIQOcLeaPq3v"
      }
    },
    {
      "cell_type": "markdown",
      "source": [
        "## **Experimental Results**\n",
        "Describe here the main experimental results. Critically discuss them. Compare them with results available in the literature (if applicable). \n",
        "\n",
        "In this section, you can add **text** and **figures**, **tables**, **plots**, and code. Make sure the code is runnable and replicable."
      ],
      "metadata": {
        "id": "BRL5KR20QWKu"
      }
    },
    {
      "cell_type": "markdown",
      "source": [
        "## **Conclusions**\n",
        "\n",
        "Summarize what you could and could not conclude based on your experiments. \n",
        "In this section, you can add **text**.\n",
        "\n"
      ],
      "metadata": {
        "id": "b4Jyn3BcQDpf"
      }
    },
    {
      "cell_type": "markdown",
      "source": [
        "## **References**\n",
        "1.   McAuley, Julian. \"Recommender Systems and Personalization Datasets\", *UCSD*,  https://cseweb.ucsd.edu/~jmcauley/datasets.html#twitch\n",
        "2.   List item\n"
      ],
      "metadata": {
        "id": "yaxqlm6kRcmb"
      }
    }
  ]
}